{
  "cells": [
    {
      "cell_type": "code",
      "execution_count": null,
      "metadata": {
        "id": "NpyoOe0oFNEl"
      },
      "outputs": [],
      "source": [
        "import sklearn\n",
        "import numpy\n",
        "import pandas as pd\n",
        "import numpy as np\n",
        "import matplotlib.pyplot as plt\n",
        "import seaborn as sns\n",
        "import warnings\n",
        "warnings.filterwarnings('ignore')"
      ]
    },
    {
      "cell_type": "code",
      "execution_count": null,
      "metadata": {
        "colab": {
          "base_uri": "https://localhost:8080/",
          "height": 206
        },
        "id": "lqwv7bbgFVxO",
        "outputId": "64e648d2-dcdc-4e28-91ce-37938b93b820"
      },
      "outputs": [],
      "source": [
        "df = pd.read_csv('IRIS.csv')\n",
        "df.head()"
      ]
    },
    {
      "cell_type": "code",
      "execution_count": null,
      "metadata": {
        "colab": {
          "base_uri": "https://localhost:8080/",
          "height": 206
        },
        "id": "5m_fXFl-HbpN",
        "outputId": "5a6b23be-b6c8-452e-88a8-5c64f3184c99"
      },
      "outputs": [],
      "source": [
        "df = df.drop(columns = ['ID'])\n",
        "df.head()"
      ]
    },
    {
      "cell_type": "code",
      "execution_count": null,
      "metadata": {
        "colab": {
          "base_uri": "https://localhost:8080/",
          "height": 300
        },
        "id": "9Nfd9qIDH6HI",
        "outputId": "2406ce14-bd03-4c18-d32a-8a64a04228bb"
      },
      "outputs": [],
      "source": [
        "df.describe()"
      ]
    },
    {
      "cell_type": "code",
      "execution_count": null,
      "metadata": {
        "colab": {
          "base_uri": "https://localhost:8080/"
        },
        "id": "HQSGMgffH8lx",
        "outputId": "f4517121-388c-4d31-d49b-08dd93d4cdbc"
      },
      "outputs": [],
      "source": [
        "df.info()"
      ]
    },
    {
      "cell_type": "code",
      "execution_count": null,
      "metadata": {
        "colab": {
          "base_uri": "https://localhost:8080/"
        },
        "id": "mfXAF_t2ID3R",
        "outputId": "0a6a0752-fa28-496e-f15f-1ccd574faf91"
      },
      "outputs": [],
      "source": [
        "df['Species'].value_counts()"
      ]
    },
    {
      "cell_type": "code",
      "execution_count": null,
      "metadata": {
        "colab": {
          "base_uri": "https://localhost:8080/"
        },
        "id": "UERI-MD3IGyH",
        "outputId": "bb125c1f-328d-4758-e188-54d91913e2f5"
      },
      "outputs": [],
      "source": [
        "df.isnull().sum()"
      ]
    },
    {
      "cell_type": "markdown",
      "metadata": {
        "id": "2LjJYBa_IKmc"
      },
      "source": [
        "**PREPROCESSING DATASET**"
      ]
    },
    {
      "cell_type": "code",
      "execution_count": null,
      "metadata": {
        "colab": {
          "base_uri": "https://localhost:8080/"
        },
        "id": "DU-OjyX1IIux",
        "outputId": "5f97e736-9abf-4556-9f33-1f3ebcb02030"
      },
      "outputs": [],
      "source": [
        "df.isnull().sum()\n"
      ]
    },
    {
      "cell_type": "code",
      "execution_count": null,
      "metadata": {
        "colab": {
          "base_uri": "https://localhost:8080/",
          "height": 447
        },
        "id": "xAWsvH6LIUro",
        "outputId": "ee4e79f4-361d-48e4-d4b5-ed92844ce0fc"
      },
      "outputs": [],
      "source": [
        "df['Sepal.Length'].hist()"
      ]
    },
    {
      "cell_type": "code",
      "execution_count": null,
      "metadata": {
        "colab": {
          "base_uri": "https://localhost:8080/",
          "height": 447
        },
        "id": "x74TrID4IWty",
        "outputId": "42a087ae-d592-48c9-ee21-23eacc8eb17b"
      },
      "outputs": [],
      "source": [
        "df['Sepal.Width'].hist()"
      ]
    },
    {
      "cell_type": "code",
      "execution_count": null,
      "metadata": {
        "colab": {
          "base_uri": "https://localhost:8080/",
          "height": 447
        },
        "id": "L3ve66N1IZOi",
        "outputId": "23f46373-349e-4429-f86d-fafa0c299bb9"
      },
      "outputs": [],
      "source": [
        "df['Petal.Length'].hist()"
      ]
    },
    {
      "cell_type": "code",
      "execution_count": null,
      "metadata": {
        "colab": {
          "base_uri": "https://localhost:8080/",
          "height": 447
        },
        "id": "BBbD4YJmIa4d",
        "outputId": "41ac8fd2-7940-40d1-b22c-740b981233e8"
      },
      "outputs": [],
      "source": [
        "df['Petal.Width'].hist()"
      ]
    },
    {
      "cell_type": "code",
      "execution_count": null,
      "metadata": {
        "id": "eipWRusuIcps"
      },
      "outputs": [],
      "source": [
        "colors = ['red', 'orange', 'blue']\n",
        "species = ['virginica', 'versicolor', 'setosa']"
      ]
    },
    {
      "cell_type": "code",
      "execution_count": null,
      "metadata": {
        "colab": {
          "base_uri": "https://localhost:8080/",
          "height": 469
        },
        "id": "1yxSk00aIfpQ",
        "outputId": "c91ef105-2119-4403-a310-9b07ea264d00"
      },
      "outputs": [],
      "source": [
        "for i in range(3):\n",
        "    # filter data on each class\n",
        "    x = df[df['Species'] == species[i]]\n",
        "    # plot the scatter plot\n",
        "    plt.scatter(x['Sepal.Length'], x['Sepal.Width'], c = colors[i], label=species[i])\n",
        "plt.xlabel(\"Sepal Length\")\n",
        "plt.ylabel(\"Sepal Width\")\n",
        "plt.legend()"
      ]
    },
    {
      "cell_type": "code",
      "execution_count": null,
      "metadata": {
        "colab": {
          "base_uri": "https://localhost:8080/",
          "height": 466
        },
        "id": "hXJM9WeyIhl_",
        "outputId": "c3a6de63-4949-4115-beb0-a4f823cca004"
      },
      "outputs": [],
      "source": [
        "for i in range(3):\n",
        "    # filter data on each class\n",
        "    x = df[df['Species'] == species[i]]\n",
        "    # plot the scatter plot\n",
        "    plt.scatter(x['Petal.Length'], x['Petal.Width'], c = colors[i], label=species[i])\n",
        "plt.xlabel(\"Petal Length\")\n",
        "plt.ylabel(\"Petal Width\")\n",
        "plt.legend()"
      ]
    },
    {
      "cell_type": "code",
      "execution_count": null,
      "metadata": {
        "colab": {
          "base_uri": "https://localhost:8080/",
          "height": 466
        },
        "id": "lmUh8w1WIrTY",
        "outputId": "53f95d13-7fad-4cb2-de21-4021093e73dd"
      },
      "outputs": [],
      "source": [
        "for i in range(3):\n",
        "    # filter data on each class\n",
        "    x = df[df['Species'] == species[i]]\n",
        "    # plot the scatter plot\n",
        "    plt.scatter(x['Sepal.Length'], x['Petal.Length'], c = colors[i], label=species[i])\n",
        "plt.xlabel(\"Sepal Length\")\n",
        "plt.ylabel(\"Petal Length\")\n",
        "plt.legend()"
      ]
    },
    {
      "cell_type": "code",
      "execution_count": null,
      "metadata": {
        "colab": {
          "base_uri": "https://localhost:8080/",
          "height": 466
        },
        "id": "bquKnadzIter",
        "outputId": "90347669-6873-463e-bb62-5ffb227ad090"
      },
      "outputs": [],
      "source": [
        "for i in range(3):\n",
        "    # filter data on each class\n",
        "    x = df[df['Species'] == species[i]]\n",
        "    # plot the scatter plot\n",
        "    plt.scatter(x['Sepal.Width'], x['Petal.Width'], c = colors[i], label=species[i])\n",
        "plt.xlabel(\"Sepal Width\")\n",
        "plt.ylabel(\"Petal Width\")\n",
        "plt.legend()"
      ]
    },
    {
      "cell_type": "markdown",
      "metadata": {
        "id": "_iWHlcdUI0rH"
      },
      "source": [
        "**CORRELATION MATRIX**"
      ]
    },
    {
      "cell_type": "code",
      "execution_count": null,
      "metadata": {
        "id": "83lqHLKrI7Ux"
      },
      "outputs": [],
      "source": [
        "numeric_df = df.select_dtypes(include=[np.number])"
      ]
    },
    {
      "cell_type": "code",
      "execution_count": null,
      "metadata": {
        "colab": {
          "base_uri": "https://localhost:8080/",
          "height": 175
        },
        "id": "5-dFPsXlMHKO",
        "outputId": "b377645b-dc27-4112-a60f-dbd233e9f9b2"
      },
      "outputs": [],
      "source": [
        "numeric_df.corr()"
      ]
    },
    {
      "cell_type": "code",
      "execution_count": null,
      "metadata": {
        "colab": {
          "base_uri": "https://localhost:8080/",
          "height": 468
        },
        "id": "JpE6F6a6MSRn",
        "outputId": "30f941b0-2614-4791-f19f-4ff2d17aff4e"
      },
      "outputs": [],
      "source": [
        "corr = numeric_df.corr()\n",
        "fig, ax = plt.subplots(figsize=(5,4))\n",
        "sns.heatmap(corr, annot=True, ax=ax, cmap = 'coolwarm')"
      ]
    },
    {
      "cell_type": "markdown",
      "metadata": {
        "id": "KXRxbv8LMkhy"
      },
      "source": [
        "**LABEL ENCODER**"
      ]
    },
    {
      "cell_type": "code",
      "execution_count": null,
      "metadata": {
        "id": "cazLVk1UMXq9"
      },
      "outputs": [],
      "source": [
        "#from sklearn.preprocessing import LabelEncoder\n",
        "#le = LabelEncoder()\n",
        "# transform the string labels to integer\n",
        "#df['Species'] = le.fit_transform(df['Species'])\n",
        "#df.head()"
      ]
    },
    {
      "cell_type": "markdown",
      "metadata": {
        "id": "ubwJzVtNMu5z"
      },
      "source": [
        "**MODEL TRAINING AND TESTING**"
      ]
    },
    {
      "cell_type": "code",
      "execution_count": null,
      "metadata": {
        "id": "gfuamMt4MrcD"
      },
      "outputs": [],
      "source": [
        "from sklearn.model_selection import train_test_split\n",
        "from sklearn.linear_model import LogisticRegression\n",
        "from sklearn.neighbors import KNeighborsClassifier\n",
        "from sklearn.tree import DecisionTreeClassifier\n",
        "import pickle\n",
        "\n",
        "# input data\n",
        "X = df.drop(columns=['Species'])\n",
        "# output data\n",
        "Y = df['Species']\n",
        "# split the data for train and test\n",
        "x_train, x_test, y_train, y_test = train_test_split(X, Y, test_size=0.30)"
      ]
    },
    {
      "cell_type": "code",
      "execution_count": null,
      "metadata": {
        "colab": {
          "base_uri": "https://localhost:8080/"
        },
        "id": "Gzfeo6NgM1Z5",
        "outputId": "c6f9431b-4814-46eb-d6f6-1e855432458c"
      },
      "outputs": [],
      "source": [
        "model = LogisticRegression()\n",
        "model.fit(x_train, y_train)\n",
        "print(\"Logistic Regression Accuracy: \", model.score(x_test, y_test) * 100)"
      ]
    },
    {
      "cell_type": "code",
      "execution_count": null,
      "metadata": {
        "colab": {
          "base_uri": "https://localhost:8080/",
          "height": 74
        },
        "id": "PDVlRejVM37z",
        "outputId": "30ab6891-8cd0-4d81-fb27-03a082dff78f"
      },
      "outputs": [],
      "source": [
        "model.fit(x_train.values, y_train.values)"
      ]
    },
    {
      "cell_type": "code",
      "execution_count": null,
      "metadata": {
        "colab": {
          "base_uri": "https://localhost:8080/"
        },
        "id": "JkRiEJ7uM85b",
        "outputId": "19229e82-11bc-436d-c63a-9a079d377be9"
      },
      "outputs": [],
      "source": [
        "print(\"Accuracy: \",model.score(x_test, y_test) * 100)"
      ]
    },
    {
      "cell_type": "code",
      "execution_count": null,
      "metadata": {
        "colab": {
          "base_uri": "https://localhost:8080/"
        },
        "id": "E6NaNF_gNDC-",
        "outputId": "8288de1b-b1af-4daa-da0d-4e24b81684f1"
      },
      "outputs": [],
      "source": [
        "model = KNeighborsClassifier()\n",
        "model.fit(x_train.values, y_train.values)\n",
        "print(\"K-nearest neighbors Accuracy: \", model.score(x_test, y_test) * 100)"
      ]
    },
    {
      "cell_type": "code",
      "execution_count": null,
      "metadata": {
        "colab": {
          "base_uri": "https://localhost:8080/",
          "height": 74
        },
        "id": "X_rA2FFPNFZB",
        "outputId": "7201df85-7bf7-4a48-b6a3-1d81d896a1bd"
      },
      "outputs": [],
      "source": [
        "model.fit(x_train.values, y_train.values)"
      ]
    },
    {
      "cell_type": "code",
      "execution_count": null,
      "metadata": {
        "colab": {
          "base_uri": "https://localhost:8080/"
        },
        "id": "tEUgSX1bNMgH",
        "outputId": "2cc90e62-f314-4de5-c454-749d59d2f92e"
      },
      "outputs": [],
      "source": [
        "print(\"Accuracy: \",model.score(x_test, y_test) * 100)"
      ]
    },
    {
      "cell_type": "code",
      "execution_count": null,
      "metadata": {
        "colab": {
          "base_uri": "https://localhost:8080/"
        },
        "id": "MQjHoJPhNSev",
        "outputId": "61bf799e-8f28-44d9-b7ae-a1290e30f70b"
      },
      "outputs": [],
      "source": [
        "model = DecisionTreeClassifier()\n",
        "model.fit(x_train.values, y_train.values)\n",
        "print(\"Decision Tree Accuracy: \", model.score(x_test, y_test) * 100)"
      ]
    },
    {
      "cell_type": "code",
      "execution_count": null,
      "metadata": {
        "colab": {
          "base_uri": "https://localhost:8080/",
          "height": 74
        },
        "id": "UM-KM7dTNU08",
        "outputId": "62545f4c-f567-4924-d9e9-bcddf91a32c7"
      },
      "outputs": [],
      "source": [
        "model.fit(x_train.values, y_train.values)"
      ]
    },
    {
      "cell_type": "code",
      "execution_count": null,
      "metadata": {
        "colab": {
          "base_uri": "https://localhost:8080/"
        },
        "id": "Mld0IAGzNYdE",
        "outputId": "a41ad07b-e20c-49db-faf9-08fe9035e5c5"
      },
      "outputs": [],
      "source": [
        "print(\"Accuracy: \",model.score(x_test, y_test) * 100)"
      ]
    },
    {
      "cell_type": "code",
      "execution_count": null,
      "metadata": {
        "id": "hNMqEaZ1NaiT"
      },
      "outputs": [],
      "source": [
        "# save the model\n",
        "#import pickle\n",
        "#filename = 'saved_model.sav'\n",
        "#pickle.dump(model, open(filename, 'wb'))"
      ]
    },
    {
      "cell_type": "code",
      "execution_count": null,
      "metadata": {
        "id": "OX0FMSCPNf27"
      },
      "outputs": [],
      "source": [
        "#import pickle"
      ]
    },
    {
      "cell_type": "code",
      "execution_count": null,
      "metadata": {
        "id": "q9wh7pUnNiAB"
      },
      "outputs": [],
      "source": [
        "# Save the updated model\n",
        "#filename = 'saved_model.sav'\n",
        "#try:\n",
        "  #  with open(filename, 'wb') as file:\n",
        "   #     pickle.dump(model, file)\n",
        "    #print(\"Model saved successfully.\")\n",
        "#except Exception as e:\n",
        " #   print(f\"Error saving the model: {e}\")"
      ]
    },
    {
      "cell_type": "code",
      "execution_count": null,
      "metadata": {
        "id": "hILPvpYxNj6R"
      },
      "outputs": [],
      "source": [
        "#load_model = pickle.load(open(filename, 'rb'))"
      ]
    },
    {
      "cell_type": "code",
      "execution_count": null,
      "metadata": {
        "id": "x057J0h8Nmm4"
      },
      "outputs": [],
      "source": [
        "#load_model.predict([[6.0, 2.2, 4.0, 1.0]])"
      ]
    },
    {
      "cell_type": "code",
      "execution_count": null,
      "metadata": {
        "colab": {
          "base_uri": "https://localhost:8080/"
        },
        "id": "bByT57RKNoeO",
        "outputId": "c622e094-def2-4383-baf8-f5de3910cd3f"
      },
      "outputs": [],
      "source": [
        "import sklearn\n",
        "print(sklearn.__version__)"
      ]
    },
    {
      "cell_type": "code",
      "execution_count": null,
      "metadata": {
        "colab": {
          "base_uri": "https://localhost:8080/",
          "height": 206
        },
        "id": "i23puE7uNq-1",
        "outputId": "7a20a9af-3d13-43b0-968e-7e1e89d0c6fd"
      },
      "outputs": [],
      "source": [
        "x_test.head()"
      ]
    },
    {
      "cell_type": "code",
      "execution_count": null,
      "metadata": {
        "id": "yd00opDANueq"
      },
      "outputs": [],
      "source": [
        "#load_model.predict([[4,3,1,5]])"
      ]
    },
    {
      "cell_type": "code",
      "execution_count": null,
      "metadata": {
        "id": "sw1V78lrNxBW"
      },
      "outputs": [],
      "source": [
        "#import joblib\n",
        "\n",
        "# Save the updated model using joblib\n",
        "#filename_joblib = 'saved_model1.joblib'\n",
        "#try:\n",
        "    #joblib.dump(model, filename_joblib)\n",
        "    #print(\"Model saved successfully using joblib.\")\n",
        "#except Exception as e:\n",
        "    #print(f\"Error saving the model using joblib: {e}\")"
      ]
    },
    {
      "cell_type": "code",
      "execution_count": null,
      "metadata": {
        "id": "5ncAEDANNzkJ"
      },
      "outputs": [],
      "source": [
        "#import joblib\n",
        "\n",
        "# Load the updated model using joblib\n",
        "#filename_joblib = 'saved_model1.joblib'\n",
        "#loaded_model = joblib.load(filename_joblib)\n",
        "\n",
        "# Now you can use the \"loaded_model\" for inference or any other operations"
      ]
    },
    {
      "cell_type": "code",
      "execution_count": null,
      "metadata": {
        "id": "BgxI87v_N2b6"
      },
      "outputs": [],
      "source": [
        "#load_model.predict([[5,3,1,0.2]])\n"
      ]
    },
    {
      "cell_type": "code",
      "execution_count": null,
      "metadata": {
        "id": "aoUZMqn3N4fS"
      },
      "outputs": [],
      "source": [
        "import pickle\n",
        "\n",
        "# Assuming 'model' is your scikit-learn model\n",
        "with open('saved_model1.pkl', 'wb') as file:\n",
        "    pickle.dump(model, file)"
      ]
    },
    {
      "cell_type": "code",
      "execution_count": null,
      "metadata": {
        "id": "YPitNTeLN6aE"
      },
      "outputs": [],
      "source": [
        "import pickle\n",
        "\n",
        "# Load the model\n",
        "with open('saved_model1.pkl', 'rb') as file:\n",
        "    model = pickle.load(file)"
      ]
    },
    {
      "cell_type": "code",
      "execution_count": null,
      "metadata": {
        "id": "GWHwxjjmN8O7"
      },
      "outputs": [],
      "source": []
    }
  ],
  "metadata": {
    "colab": {
      "provenance": []
    },
    "kernelspec": {
      "display_name": "Python 3",
      "name": "python3"
    },
    "language_info": {
      "codemirror_mode": {
        "name": "ipython",
        "version": 3
      },
      "file_extension": ".py",
      "mimetype": "text/x-python",
      "name": "python",
      "nbconvert_exporter": "python",
      "pygments_lexer": "ipython3",
      "version": "3.12.4"
    }
  },
  "nbformat": 4,
  "nbformat_minor": 0
}
